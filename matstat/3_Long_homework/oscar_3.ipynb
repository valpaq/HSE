{
 "cells": [
  {
   "cell_type": "markdown",
   "metadata": {},
   "source": [
    "### Домашнее задание 3.4\n",
    "##### Работа с данными\n",
    "###### выполнил Парамонов Виктор, СКБ182\n",
    "В данном задании проведем анализ реальных данных. Воспользуемся основной интерпретацией гипергеометрического распределения - выборки из генеральной совокупности. Проще говоря, в терминах используемых далее данных, имея частоту оскаров, которые получили фильмы, мы берем выборки случайного размера и смотрим по ним среднее значение. Типичная интерпретация - основа любой нетипичной интерпретации, поэтому для дальнейшей успешной работы с чем-то более сложным, стоит сначала разобраться с более простым."
   ]
  },
  {
   "cell_type": "code",
   "execution_count": 1,
   "metadata": {},
   "outputs": [],
   "source": [
    "import numpy as np\n",
    "import matplotlib.pyplot as plt\n",
    "import seaborn as sns"
   ]
  },
  {
   "cell_type": "code",
   "execution_count": 2,
   "metadata": {},
   "outputs": [
    {
     "data": {
      "text/html": [
       "<img src=\"https://s550sas.storage.yandex.net/rdisk/3dd688e69b4fb7c3812b6749ba84b23599589281c983b84e52da7c3f50eeb88c/5fb152d4/G1v26cP9WJ1Mqm4XNJtiWTYEDatEVCNdUGY04XAsxbGThJhO3WGkBpbHrnxTfolYGN9v2NFhC5E0oRdnrMZz4A==?uid=0&filename=oscar_%23.png&disposition=inline&hash=&limit=0&content_type=image%2Fpng&owner_uid=0&fsize=18280&hid=a363804316d1c99da49540b37af9a026&media_type=image&tknv=v2&etag=fcbb1358ba8616f9704dae61890a175f&rtoken=Vjdi9RYmM1aX&force_default=no&ycrid=na-3030fdc981eec1e2412cf356d9b895a4-downloader23e&ts=5b4277e1b5d00&s=917f312a23030f4c09a02c813cd5ba3b009596780e9ee1cda218cc468b173168&pb=U2FsdGVkX1-Fd3ahXxmVry66_xkQWh8pIWnfXWTlN-DUl_JrFdpkuAPxxPZqt-z_6-hDB-eiiOD9gpXpm71qn26w_VB1cA8G2sBSQmEltoY\"/>"
      ],
      "text/plain": [
       "<IPython.core.display.Image object>"
      ]
     },
     "execution_count": 2,
     "metadata": {},
     "output_type": "execute_result"
    }
   ],
   "source": [
    "from IPython.display import Image\n",
    "from IPython.core.display import HTML \n",
    "Image(url= \"https://s550sas.storage.yandex.net/rdisk/3dd688e69b4fb7c3812b6749ba84b23599589281c983b84e52da7c3f50eeb88c/5fb152d4/G1v26cP9WJ1Mqm4XNJtiWTYEDatEVCNdUGY04XAsxbGThJhO3WGkBpbHrnxTfolYGN9v2NFhC5E0oRdnrMZz4A==?uid=0&filename=oscar_%23.png&disposition=inline&hash=&limit=0&content_type=image%2Fpng&owner_uid=0&fsize=18280&hid=a363804316d1c99da49540b37af9a026&media_type=image&tknv=v2&etag=fcbb1358ba8616f9704dae61890a175f&rtoken=Vjdi9RYmM1aX&force_default=no&ycrid=na-3030fdc981eec1e2412cf356d9b895a4-downloader23e&ts=5b4277e1b5d00&s=917f312a23030f4c09a02c813cd5ba3b009596780e9ee1cda218cc468b173168&pb=U2FsdGVkX1-Fd3ahXxmVry66_xkQWh8pIWnfXWTlN-DUl_JrFdpkuAPxxPZqt-z_6-hDB-eiiOD9gpXpm71qn26w_VB1cA8G2sBSQmEltoY\")\n",
    "# источник https://www.hindawi.com/journals/ads/2008/463781/tab2/"
   ]
  },
  {
   "cell_type": "code",
   "execution_count": 3,
   "metadata": {},
   "outputs": [
    {
     "data": {
      "text/plain": [
       "array([ 1.,  1.,  1.,  1.,  1.,  1.,  1.,  1.,  1.,  1.,  1.,  1.,  1.,\n",
       "        1.,  1.,  1.,  1.,  1.,  1.,  1.,  1.,  1.,  1.,  1.,  1.,  1.,\n",
       "        1.,  1.,  1.,  1.,  1.,  1.,  1.,  1.,  1.,  1.,  1.,  1.,  1.,\n",
       "        1.,  1.,  1.,  1.,  1.,  1.,  1.,  1.,  1.,  1.,  1.,  1.,  1.,\n",
       "        1.,  1.,  1.,  1.,  1.,  1.,  1.,  1.,  1.,  1.,  1.,  1.,  1.,\n",
       "        1.,  1.,  1.,  1.,  1.,  1.,  1.,  1.,  1.,  1.,  1.,  1.,  1.,\n",
       "        1.,  1.,  1.,  1.,  1.,  1.,  1.,  1.,  1.,  1.,  1.,  1.,  1.,\n",
       "        1.,  1.,  1.,  1.,  1.,  1.,  1.,  1.,  1.,  1.,  1.,  1.,  1.,\n",
       "        1.,  1.,  1.,  1.,  1.,  1.,  1.,  2.,  2.,  2.,  2.,  2.,  2.,\n",
       "        2.,  2.,  2.,  2.,  2.,  2.,  2.,  2.,  2.,  2.,  2.,  2.,  2.,\n",
       "        2.,  2.,  2.,  2.,  2.,  2.,  2.,  2.,  2.,  2.,  3.,  3.,  3.,\n",
       "        3.,  3.,  3.,  3.,  3.,  3.,  3.,  3.,  3.,  3.,  3.,  4.,  4.,\n",
       "        4.,  4.,  4.,  4.,  4.,  4.,  4.,  5.,  5.,  5.,  5.,  5.,  5.,\n",
       "        6.,  7.,  7.,  7.,  7.,  8.,  9.,  9., 11.])"
      ]
     },
     "execution_count": 3,
     "metadata": {},
     "output_type": "execute_result"
    }
   ],
   "source": [
    "oscar_freq=[111,29,14,9,6,1,4,1,2,0,1]\n",
    "films=np.array([])\n",
    "for i,j in enumerate(oscar_freq):\n",
    "    while j>0:\n",
    "        films=np.append(films,i+1)\n",
    "        j-=1\n",
    "films"
   ]
  },
  {
   "cell_type": "code",
   "execution_count": 4,
   "metadata": {},
   "outputs": [
    {
     "data": {
      "text/plain": [
       "array([ 1.,  1.,  3.,  1.,  1.,  1.,  2.,  8.,  1.,  3.,  1.,  3.,  1.,\n",
       "        2.,  1.,  2.,  2.,  1.,  1.,  2.,  1.,  1.,  1.,  6.,  7.,  5.,\n",
       "        2.,  1.,  1.,  1.,  1.,  2.,  3.,  1.,  1.,  1.,  4.,  2.,  1.,\n",
       "        4.,  1.,  1.,  1.,  1.,  3.,  1.,  1.,  2.,  4.,  1.,  1.,  1.,\n",
       "        1.,  3.,  2.,  1.,  1.,  1.,  1.,  1.,  3.,  1.,  1.,  5.,  1.,\n",
       "        1.,  1.,  3.,  1.,  1.,  1.,  7.,  1.,  1.,  3.,  2.,  1.,  3.,\n",
       "        2.,  1.,  1.,  1.,  1.,  1.,  2.,  1.,  1.,  2.,  1.,  1.,  1.,\n",
       "        1.,  1.,  1.,  2.,  7.,  4.,  1.,  1.,  2.,  5.,  1.,  1.,  1.,\n",
       "        2.,  2.,  2.,  1.,  9.,  2.,  2.,  1.,  1.,  1.,  4.,  1.,  5.,\n",
       "        1.,  1.,  1.,  1.,  1.,  1.,  1.,  2.,  1.,  1.,  2.,  1.,  1.,\n",
       "        1.,  4.,  4.,  1.,  1.,  1.,  1.,  3.,  2.,  1.,  1.,  4.,  2.,\n",
       "        3.,  5.,  1.,  1.,  1.,  1.,  9.,  1.,  1.,  1.,  1.,  1.,  7.,\n",
       "        2.,  1.,  4.,  5.,  1.,  1.,  3.,  2.,  3.,  1.,  1.,  2.,  1.,\n",
       "        1.,  2., 11.,  1.,  1.,  1.,  1.,  1.,  1.])"
      ]
     },
     "execution_count": 4,
     "metadata": {},
     "output_type": "execute_result"
    }
   ],
   "source": [
    "np.random.seed(42)\n",
    "np.random.shuffle(films)\n",
    "films"
   ]
  },
  {
   "cell_type": "markdown",
   "metadata": {},
   "source": [
    "Среднее количество и дисперсия оскаров на фильм, который выиграл хоть один оскар"
   ]
  },
  {
   "cell_type": "code",
   "execution_count": 5,
   "metadata": {},
   "outputs": [
    {
     "data": {
      "text/plain": [
       "(1.9550561797752808, 3.0827144036056624)"
      ]
     },
     "execution_count": 5,
     "metadata": {},
     "output_type": "execute_result"
    }
   ],
   "source": [
    "films.mean(),films.var(ddof=1)"
   ]
  },
  {
   "cell_type": "markdown",
   "metadata": {},
   "source": [
    "Хотим оценить среднее по выборке с доверительным интервалом(от 1 до 3 сигм)"
   ]
  },
  {
   "cell_type": "code",
   "execution_count": 6,
   "metadata": {},
   "outputs": [],
   "source": [
    "from scipy import stats\n",
    "def confidence_interval_mean(alpha,film):\n",
    "    df = len(film) - 1\n",
    "    t = stats.t.ppf(1 - alpha/2, df)\n",
    "    s = np.std(film, ddof=1)\n",
    "    n = df+1\n",
    "    print(\"доверительный интервал = {:.4f} ,количество фильмов={}\".format(1-alpha,len(film)))\n",
    "    print(\"({:.4f}-{:.4f};{:.4f}+{:.4f})\".format(np.mean(film),(t * s / np.sqrt(n)),np.mean(film),(t * s / np.sqrt(n))))"
   ]
  },
  {
   "cell_type": "code",
   "execution_count": 7,
   "metadata": {},
   "outputs": [
    {
     "name": "stdout",
     "output_type": "stream",
     "text": [
      "доверительный интервал = 0.7807 ,количество фильмов=22\n",
      "(2.3636-0.6948;2.3636+0.6948)\n",
      "доверительный интервал = 0.8504 ,количество фильмов=26\n",
      "(2.4615-0.6912;2.4615+0.6912)\n",
      "доверительный интервал = 0.6491 ,количество фильмов=12\n",
      "(1.7500-0.4815;1.7500+0.4815)\n",
      "доверительный интервал = 0.5310 ,количество фильмов=10\n",
      "(1.6000-0.2570;1.6000+0.2570)\n",
      "доверительный интервал = 0.7180 ,количество фильмов=11\n",
      "(1.8182-0.4804;1.8182+0.4804)\n",
      "доверительный интервал = 0.5553 ,количество фильмов=42\n",
      "(2.0714-0.2127;2.0714+0.2127)\n",
      "доверительный интервал = 0.7771 ,количество фильмов=30\n",
      "(2.3000-0.5038;2.3000+0.5038)\n",
      "доверительный интервал = 0.7172 ,количество фильмов=40\n",
      "(1.7500-0.2723;1.7500+0.2723)\n",
      "доверительный интервал = 0.8060 ,количество фильмов=11\n",
      "(2.1818-1.0251;2.1818+1.0251)\n",
      "доверительный интервал = 0.9717 ,количество фильмов=15\n",
      "(2.4000-1.7175;2.4000+1.7175)\n"
     ]
    }
   ],
   "source": [
    "for i in range(10):\n",
    "    confidence_interval_mean(np.random.uniform(low=0.01,high=0.5),np.random.choice(films, np.random.randint(low=10,high=50)))"
   ]
  },
  {
   "cell_type": "code",
   "execution_count": 8,
   "metadata": {},
   "outputs": [],
   "source": [
    "def confidence_interval_variance(alpha,film):\n",
    "    n = len(film)\n",
    "    s2 = np.var(film, ddof=1)\n",
    "    df = n - 1\n",
    "    upper = (n - 1) * s2 / stats.chi2.ppf(alpha / 2, df)\n",
    "    lower = (n - 1) * s2 / stats.chi2.ppf(1 - alpha / 2, df)\n",
    "    print(\"доверительный интервал = {:.4f} ,количество фильмов={}\".format(1-alpha,len(film)))\n",
    "    print(\"({:.4f};{:.4f})\".format(lower,upper))"
   ]
  },
  {
   "cell_type": "code",
   "execution_count": 9,
   "metadata": {},
   "outputs": [
    {
     "name": "stdout",
     "output_type": "stream",
     "text": [
      "доверительный интервал = 0.6777 ,количество фильмов=25\n",
      "(1.9513;3.4829)\n",
      "доверительный интервал = 0.7209 ,количество фильмов=34\n",
      "(1.9839;3.3992)\n",
      "доверительный интервал = 0.5275 ,количество фильмов=11\n",
      "(1.3231;2.5669)\n",
      "доверительный интервал = 0.5287 ,количество фильмов=12\n",
      "(0.3345;0.6291)\n",
      "доверительный интервал = 0.9709 ,количество фильмов=44\n",
      "(1.6620;4.3115)\n",
      "доверительный интервал = 0.9638 ,количество фильмов=28\n",
      "(2.4520;7.8409)\n",
      "доверительный интервал = 0.5154 ,количество фильмов=18\n",
      "(3.4355;5.5974)\n",
      "доверительный интервал = 0.8084 ,количество фильмов=26\n",
      "(0.6460;1.3672)\n",
      "доверительный интервал = 0.5185 ,количество фильмов=34\n",
      "(1.5388;2.1833)\n",
      "доверительный интервал = 0.7667 ,количество фильмов=37\n",
      "(3.1096;5.4850)\n"
     ]
    }
   ],
   "source": [
    "for i in range(10):\n",
    "    confidence_interval_variance(np.random.uniform(low=0.01,high=0.5),np.random.choice(films, np.random.randint(low=10,high=50)))"
   ]
  }
 ],
 "metadata": {
  "kernelspec": {
   "display_name": "Python 3",
   "language": "python",
   "name": "python3"
  },
  "language_info": {
   "codemirror_mode": {
    "name": "ipython",
    "version": 3
   },
   "file_extension": ".py",
   "mimetype": "text/x-python",
   "name": "python",
   "nbconvert_exporter": "python",
   "pygments_lexer": "ipython3",
   "version": "3.7.8"
  }
 },
 "nbformat": 4,
 "nbformat_minor": 4
}
